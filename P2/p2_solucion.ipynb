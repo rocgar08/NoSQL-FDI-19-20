{
 "cells": [
  {
   "cell_type": "markdown",
   "metadata": {},
   "source": [
    "## Bases de Datos NoSQL - Fdi - UCM\n",
    "\n",
    "###  Práctica 2 "
   ]
  },
  {
   "cell_type": "markdown",
   "metadata": {},
   "source": [
    "Completar con los nombres\n",
    "\n",
    "Estudiante 1: Rocío García Núñez\n",
    "\n",
    "Estudiante 2:Cristina Manso de la Viuda\n",
    "\n",
    "Estudiante 3:"
   ]
  },
  {
   "cell_type": "markdown",
   "metadata": {},
   "source": [
    "#### Preparación\n",
    "La práctica utiliza dos colecciones: \n",
    "-\tlibros : Libros con opiniones de usuarios\n",
    "-\tlog: Datos de un archivo log\n",
    "\n",
    "\n",
    "**Entrega**: Una vez finalizado ir a Fila + Download As --> Notebook (.ipynb). Subir al campus virtual el fichero; no hay que cambiarle el nombre\n",
    "\n",
    "**Nota**: se valorará no solo que el código funcione, sino que sea la solución más sencilla. En particular, debemos intentar evitar resolver las preguntas mediante un uso excesivo de Python"
   ]
  },
  {
   "cell_type": "markdown",
   "metadata": {},
   "source": [
    "Código para inicializar la base de datos "
   ]
  },
  {
   "cell_type": "code",
   "execution_count": 1,
   "metadata": {},
   "outputs": [
    {
     "name": "stdout",
     "output_type": "stream",
     "text": [
      "[1, 2, 3, 4, 5, 6]\n",
      "['Bertoldo', 'Herminia', 'Sinda', 'Aniceto', 'Fabricio']\n"
     ]
    }
   ],
   "source": [
    "#### Código\n",
    "import pymongo \n",
    "from pprint import pprint\n",
    "\n",
    "from pymongo import MongoClient\n",
    "client = MongoClient('mongodb://127.0.0.1:27017/')\n",
    "\n",
    "db = client.test\n",
    "db.libros.drop()\n",
    "db.log.drop()\n",
    "r1 = db.libros.insert_many([\n",
    "{\"_id\":1,\"titulo\":\"Brotherhood\",\"autor\":[\"Caín\",\"Abel\"],\"edicion\":{\"actual\":1992,\"primera\":1990},\"precio\":9.0,\"genero\":[\"religión\",\"crimen\"]},\n",
    "{\"_id\":2,\"titulo\":\"Juego de Mongos\",\"autor\":[\"Anonimo\"],\"edicion\":{\"actual\":2019,\"primera\":1998},\"precio\":\"3\",\"genero\":[\"NoSQL\",\"filosofía oriental\"]},\n",
    "{\"_id\":3,\"titulo\":\"Días de sueño (I have a dream)\",\"autor\":\"Mor-feo\",\"edicion\":{\"actual\":2019,\"primera\":2009},\"precio\":12.5,\"opiniones\":[{\"usuario\":\"bertoldo\",\"comentario\":\"soporífero\",\"puntos\":3.0}],\"genero\":[\"melodrama\",\"romance\"]},\n",
    "{\"_id\":4,\"titulo\":\"Peppa Pig va de acampada\",\"genero\":[\"Thriller psicológico\",\"terror\",\"romance\"],\"edicion\":{\"actual\":1950,\"primera\":1942},\"precio\":15.0,\"opiniones\":[{\"usuario\":\"bertoldo\",\"comentario\":\"Estremecedor\",\"puntos\":7.0},{\"usuario\":\"bertoldo\",\"comentario\":\"Genial autobiografía\",\"puntos\":9.0},{\"usuario\":\"herminia\",\"comentario\":\"Inextricable\",\"puntos\":4.0}]},\n",
    "{\"_id\":5,\"titulo\":\"Tú a Mostoles, yo a Getafe\",\"genero\":[\"viajes\",\"romance\",\"terror\"],\"edicion\":{\"actual\":2017,\"primera\":2016},\"precio\":8.0,\"opiniones\":[{\"usuario\":\"bertoldo\",\"comentario\":\"Vaya pestiño\",\"puntos\":3.0},{\"usuario\":\"herminia\",\"comentario\":\"La escena de la cervecita...lo mejor\",\"puntos\":8.0},{\"usuario\":\"calixto\",\"comentario\":\"Gran interpretación del conductor del metro\",\"puntos\":10.0},{\"usuario\":\"bertoldo\",\"comentario\":\"La segunda vez me ha gustado aun menos\",\"puntos\":0.0}]},\n",
    "{\"_id\":6,\"titulo\":\"Canción de hambre y sueño\",\"genero\":[\"NoSQL\",\"romance\",\"MongoDB\"],\"precio\":'9.0',\"opiniones\":[{\"usuario\":\"herminia\",\"comentario\":\"Apasionante si no tienes nada que hacer con tu vida\",\"puntos\":3.0},{\"usuario\":\"herminia\",\"comentario\":\"La escena de la cervecita...lo mejor\",\"puntos\":8.0},{\"usuario\":\"calixto\",\"comentario\":\"Más pasado de moda que la camiseta del profesor\",\"puntos\":1.0},{\"usuario\":\"bertoldo\",\"comentario\":\"La segunda vez me ha gustado aun menos\",\"puntos\":-5.0}], \"edicion\":{\"actual\":2019, \"primera\":2010}}\n",
    "])\n",
    "print(r1.inserted_ids)\n",
    "r2 = db.log.insert_many([\n",
    "{'_id': 'Bertoldo', 'País': 'Francia',  \n",
    "'IP' : ['147.96.1.5','127.0.0.1'],\n",
    "'actions':[\n",
    "{'action':'login',\"timestamp\": \"2018-05-24 22:19:41\",  'duration':13,'success': True},\n",
    "{'action':'consult',\"timestamp\": \"2018-05-24 22:19:45\",'duration':4,'success': False, 'error':'syntax error'}\n",
    "],\n",
    "'completed':2},\n",
    "{'_id': 'Herminia', 'País': 'España',\n",
    "'IP' : '2.18.111.255',\n",
    "'actions':[{'action':'login',\"timestamp\": \"2018-05-24 11:19:45\",'duration':16,'success': True},\n",
    "         {'action':'delete file',\"timestamp\": \"2018-05-24 12:19:13\",'duration':54,'success': False},\n",
    "         {'action':'consult',\"timestamp\": \"2018-05-24 12:22:12\"}\n",
    "         ],\n",
    "'completed':2},\n",
    "{'_id': 'Sinda', 'País': 'Alemania', \n",
    "'IP':['147.96.1.5','147.121.1.1','154.33.255.128'],\n",
    "'actions':[\n",
    "   {'action':'login',\"timestamp\": \"2018-05-24 14:00:47\",'duration':400,'success': True},\n",
    "   {'action':'edit',\"timestamp\": \"2018-05-24 14:30:13\",'duration':1600,'success': True},\n",
    "   {'action':'delete',\"timestamp\": \"2018-05-24 15:03:21\",'duration':8,'success': False,'error':'access denied'} ],\n",
    "'completed':3},\n",
    "{'_id': 'Aniceto', 'País': 'Francia',  \n",
    "'IP' : ['147.96.1.5','127.0.0.1'],\n",
    "'actions':[{'action':'login',\"timestamp\": \"2018-06-24 12:10:0\",  'duration':13,'success': False},\n",
    "\t {'action':'consult',\"timestamp\": \"2018-05-24 12:19:45\"}],\n",
    "'completed':1},\n",
    "{'_id': 'Fabricio', 'País': 'Italia',  \n",
    "'IP' : ['147.96.1.5','127.0.0.1'],\n",
    "'actions':[{'action':'login',\"timestamp\": \"2018-05-24 22:19:41\",  'duration':13,'success': True},\n",
    "\t {'action':'consult',\"timestamp\": \"2018-05-24 22:19:45\",'duration':4,'success': False, 'error':'syntax error'}],\n",
    "'completed':2}\n",
    "])\n",
    "print(r2.inserted_ids)"
   ]
  },
  {
   "cell_type": "markdown",
   "metadata": {},
   "source": [
    "**Ejemplo**\n",
    "Libros sin opiniones y con precio menor de 12 euros (mostrar solo título y precio)\n",
    "\n"
   ]
  },
  {
   "cell_type": "code",
   "execution_count": 51,
   "metadata": {},
   "outputs": [
    {
     "name": "stdout",
     "output_type": "stream",
     "text": [
      "{'titulo': 'Brotherhood', 'precio': 9.0}\n"
     ]
    }
   ],
   "source": [
    "# Solución \n",
    "query = db.libros.find({'opiniones':{'$exists':False}, 'precio':{'$lt':12}}, {'_id':0, 'titulo':1, 'precio':1})\n",
    "# Para mostrarlo\n",
    "for docs in query:\n",
    "    print(docs)"
   ]
  },
  {
   "cell_type": "markdown",
   "metadata": {},
   "source": [
    "**Ejemplo** Número de libros cuya clave precio es de tipo string"
   ]
  },
  {
   "cell_type": "code",
   "execution_count": 52,
   "metadata": {},
   "outputs": [
    {
     "name": "stdout",
     "output_type": "stream",
     "text": [
      "2\n"
     ]
    }
   ],
   "source": [
    "# Solución\n",
    "query = db.libros.count_documents({\"precio\":{\"$type\":\"string\"}})\n",
    "print(query)"
   ]
  },
  {
   "cell_type": "markdown",
   "metadata": {},
   "source": [
    "1.- Título de los libros que sean del género romance pero no del género terror."
   ]
  },
  {
   "cell_type": "code",
   "execution_count": 18,
   "metadata": {},
   "outputs": [
    {
     "name": "stdout",
     "output_type": "stream",
     "text": [
      "{'titulo': 'Días de sueño (I have a dream)'}\n",
      "{'titulo': 'Canción de hambre y sueño'}\n"
     ]
    }
   ],
   "source": [
    "\n",
    "query =  db.libros.find({\"genero\":{\"$all\":[\"romance\"],\"$nin\":[\"terror\"]}},{\"_id\":0,\"titulo\":1})\n",
    "for doc in query: \n",
    "    print(doc)\n",
    "\n",
    "\n",
    "\n",
    "\n"
   ]
  },
  {
   "cell_type": "markdown",
   "metadata": {},
   "source": [
    "2.- Número de libros para los que la primera opinión tenga más de 5 puntos\n"
   ]
  },
  {
   "cell_type": "code",
   "execution_count": 19,
   "metadata": {},
   "outputs": [
    {
     "name": "stdout",
     "output_type": "stream",
     "text": [
      "1\n"
     ]
    },
    {
     "name": "stderr",
     "output_type": "stream",
     "text": [
      "c:\\software\\programacion\\python\\Anaconda3\\lib\\site-packages\\ipykernel_launcher.py:2: DeprecationWarning: count is deprecated. Use Collection.count_documents instead.\n",
      "  \n"
     ]
    }
   ],
   "source": [
    "# Solución\n",
    "n = db.libros.find({\"opiniones.0.puntos\":{\"$gt\":5.0}}).count()\n",
    "print(n)"
   ]
  },
  {
   "cell_type": "markdown",
   "metadata": {},
   "source": [
    "3.- Libros que tengan al menos 3 opiniones, y para cada uno de ellos mostrar solo el título y la 3ª opinión."
   ]
  },
  {
   "cell_type": "code",
   "execution_count": 17,
   "metadata": {
    "scrolled": true
   },
   "outputs": [
    {
     "ename": "NameError",
     "evalue": "name 'true' is not defined",
     "output_type": "error",
     "traceback": [
      "\u001b[1;31m---------------------------------------------------------------------------\u001b[0m",
      "\u001b[1;31mNameError\u001b[0m                                 Traceback (most recent call last)",
      "\u001b[1;32m<ipython-input-17-f40edd3c4098>\u001b[0m in \u001b[0;36m<module>\u001b[1;34m\u001b[0m\n\u001b[0;32m      1\u001b[0m \u001b[1;31m# Solución\u001b[0m\u001b[1;33m\u001b[0m\u001b[1;33m\u001b[0m\u001b[1;33m\u001b[0m\u001b[0m\n\u001b[1;32m----> 2\u001b[1;33m \u001b[0mquery\u001b[0m \u001b[1;33m=\u001b[0m \u001b[0mdb\u001b[0m\u001b[1;33m.\u001b[0m\u001b[0mlibros\u001b[0m\u001b[1;33m.\u001b[0m\u001b[0mfind\u001b[0m\u001b[1;33m(\u001b[0m\u001b[1;33m{\u001b[0m\u001b[1;34m\"opiniones\"\u001b[0m\u001b[1;33m:\u001b[0m\u001b[1;33m{\u001b[0m\u001b[1;34m\"$exists\"\u001b[0m\u001b[1;33m:\u001b[0m\u001b[0mtrue\u001b[0m\u001b[1;33m}\u001b[0m\u001b[1;33m}\u001b[0m\u001b[1;33m)\u001b[0m\u001b[1;33m\u001b[0m\u001b[1;33m\u001b[0m\u001b[0m\n\u001b[0m\u001b[0;32m      3\u001b[0m \u001b[1;32mfor\u001b[0m \u001b[0mdoc\u001b[0m \u001b[1;32min\u001b[0m \u001b[0mquery\u001b[0m\u001b[1;33m:\u001b[0m\u001b[1;33m\u001b[0m\u001b[1;33m\u001b[0m\u001b[0m\n\u001b[0;32m      4\u001b[0m     \u001b[0mpprint\u001b[0m\u001b[1;33m(\u001b[0m\u001b[0mdoc\u001b[0m\u001b[1;33m)\u001b[0m\u001b[1;33m\u001b[0m\u001b[1;33m\u001b[0m\u001b[0m\n",
      "\u001b[1;31mNameError\u001b[0m: name 'true' is not defined"
     ]
    }
   ],
   "source": [
    "# Solución\n",
    "query = db.libros.find({\"opiniones\":{\"$exists\":true}})\n",
    "for doc in query:\n",
    "    pprint(doc)"
   ]
  },
  {
   "cell_type": "markdown",
   "metadata": {},
   "source": [
    "4.- Para cada película de género romance, mostrar:\n",
    "\n",
    "- El título\n",
    "- La primera opinión de bertoldo para esa película en la que haya puesto una puntuación igual o superior a 8 (si no hay ninguna, no aparecerá el array opiniones)\n"
   ]
  },
  {
   "cell_type": "code",
   "execution_count": 72,
   "metadata": {
    "scrolled": true
   },
   "outputs": [
    {
     "name": "stdout",
     "output_type": "stream",
     "text": [
      "{'opiniones': [], 'titulo': 'Días de sueño (I have a dream)'}\n",
      "{'opiniones': [{'comentario': 'Genial autobiografía',\n",
      "                'puntos': 9.0,\n",
      "                'usuario': 'bertoldo'}],\n",
      " 'titulo': 'Peppa Pig va de acampada'}\n",
      "{'opiniones': [{'comentario': 'La escena de la cervecita...lo mejor',\n",
      "                'puntos': 8.0,\n",
      "                'usuario': 'herminia'}],\n",
      " 'titulo': 'Tú a Mostoles, yo a Getafe'}\n",
      "{'opiniones': [{'comentario': 'La escena de la cervecita...lo mejor',\n",
      "                'puntos': 8.0,\n",
      "                'usuario': 'herminia'}],\n",
      " 'titulo': 'Canción de hambre y sueño'}\n"
     ]
    }
   ],
   "source": [
    "# Solución\n",
    "query = db.libros.find({\"genero\":\"romance\"},{\"opiniones\":{\"$elemMatch\":{\"puntos\":{\"$gte\":8.0},\"usuario\":\"bertoldo\"}},\"opiniones\":{\"$slice\":[1,1]},\"_id\":0,\"titulo\":1})\n",
    "for doc in query: \n",
    "    pprint(doc)"
   ]
  },
  {
   "cell_type": "markdown",
   "metadata": {},
   "source": [
    "#### Log\n",
    "\n",
    "5.- Se ha detectado un error en el log que debemos corregir. Todos los usuarios con `País` `Francia` deberían tener en realidad, España. Copia en la solución la instrucción escribirías para hacer el cambio.\n",
    "\n",
    "\n",
    "**Nota** Recordar que en Python se utiliza `update_many` para modificar todos los documentos que cumplan la condición y `update_one`si solo se quiere modificar uno"
   ]
  },
  {
   "cell_type": "code",
   "execution_count": 67,
   "metadata": {},
   "outputs": [
    {
     "name": "stdout",
     "output_type": "stream",
     "text": [
      "0\n",
      "True\n"
     ]
    }
   ],
   "source": [
    "# Solución\n",
    "query = db.log.update_many({\"País\":\"Francia\"},{\"$set\":{\"País\":\"España\"}})\n",
    "print(query.modified_count)\n",
    "print(query.acknowledged)"
   ]
  },
  {
   "cell_type": "markdown",
   "metadata": {},
   "source": [
    "6.- Llega un nuevo acción de la usuario Sinda (se puede suponer que _id: Sinda ya existe),. Se trata de una\n",
    "'action' con valor 'copy file', timestamp: \"2018-05-24 15:03:21\",duration:8,success: true. Añadirla al principio de su array acciones ('actions')\n"
   ]
  },
  {
   "cell_type": "code",
   "execution_count": 85,
   "metadata": {},
   "outputs": [
    {
     "name": "stdout",
     "output_type": "stream",
     "text": [
      "1\n",
      "True\n"
     ]
    }
   ],
   "source": [
    "# Solución \n",
    "query = db.log.update_one({\"_id\":\"Sinda\"},\n",
    "    {\"$push\":{\n",
    "        \"actions\":{\n",
    "         \"$each\":[{\"action\":\"copy file\",\n",
    "         \"timestamp\":\"2018-05-24 15:03:21\",\n",
    "          \"duration\":8.0,\"success\": True}],\n",
    "    \"$position\":0\n",
    "    }\n",
    "}})\n",
    "print(query.modified_count)\n",
    "print(query.acknowledged)\n"
   ]
  },
  {
   "cell_type": "markdown",
   "metadata": {},
   "source": [
    "7.- La tercera acción de Herminia, que estaba incompleta, ha finalizado con éxito. Poner success a true y duration a 4."
   ]
  },
  {
   "cell_type": "code",
   "execution_count": 90,
   "metadata": {},
   "outputs": [
    {
     "name": "stdout",
     "output_type": "stream",
     "text": [
      "{'IP': '2.18.111.255',\n",
      " 'País': 'España',\n",
      " '_id': 'Herminia',\n",
      " 'actions': [{'action': 'login',\n",
      "              'duration': 16,\n",
      "              'success': True,\n",
      "              'timestamp': '2018-05-24 11:19:45'},\n",
      "             {'action': 'delete file',\n",
      "              'duration': 54,\n",
      "              'success': False,\n",
      "              'timestamp': '2018-05-24 12:19:13'},\n",
      "             {'action': 'consult', 'timestamp': '2018-05-24 12:22:12'}],\n",
      " 'completed': 2}\n",
      "1\n",
      "True\n",
      "{'IP': '2.18.111.255',\n",
      " 'País': 'España',\n",
      " '_id': 'Herminia',\n",
      " 'actions': [{'action': 'login',\n",
      "              'duration': 16,\n",
      "              'success': True,\n",
      "              'timestamp': '2018-05-24 11:19:45'},\n",
      "             {'action': 'delete file',\n",
      "              'duration': 54,\n",
      "              'success': False,\n",
      "              'timestamp': '2018-05-24 12:19:13'},\n",
      "             {'action': 'consult',\n",
      "              'duration': 4,\n",
      "              'success': True,\n",
      "              'timestamp': '2018-05-24 12:22:12'}],\n",
      " 'completed': 2}\n"
     ]
    }
   ],
   "source": [
    "# para ver los documentos de herminia\n",
    "for user in db.log.find({\"_id\": \"Herminia\"}):\n",
    "    pprint(user)\n",
    "    \n",
    "# Solución\n",
    "query =db.log.update_one({\"_id\":\"Herminia\"},{\"$set\":{\"actions.2.success\":True, \"actions.2.duration\":4}}) \n",
    "print(query.modified_count)\n",
    "print(query.acknowledged)\n",
    "\n",
    "# volvemos a mostrar los documentos de herminia\n",
    "for user in db.log.find({\"_id\": \"Herminia\"}):\n",
    "    pprint(user)\n",
    "    \n"
   ]
  },
  {
   "cell_type": "markdown",
   "metadata": {},
   "source": [
    "8.- Bertoldo tiene una nueva IP, la 112.56.2.67. Incorporarla a su lista de IPs si no está incluido ya (la instrucción debe hacer la comprobación, no nosotros a ojo)"
   ]
  },
  {
   "cell_type": "code",
   "execution_count": 91,
   "metadata": {},
   "outputs": [
    {
     "ename": "SyntaxError",
     "evalue": "invalid syntax (<ipython-input-91-0e93f2d42359>, line 2)",
     "output_type": "error",
     "traceback": [
      "\u001b[1;36m  File \u001b[1;32m\"<ipython-input-91-0e93f2d42359>\"\u001b[1;36m, line \u001b[1;32m2\u001b[0m\n\u001b[1;33m    query = db.log.update_one({\"_id\":\"Bertoldo\"},{\"$set\":{\"IP\":112.56.2.67},{\"upsert\":True})\u001b[0m\n\u001b[1;37m                                                                      ^\u001b[0m\n\u001b[1;31mSyntaxError\u001b[0m\u001b[1;31m:\u001b[0m invalid syntax\n"
     ]
    }
   ],
   "source": [
    "# Solución\n",
    "#Sabemos que lleva upsert pero nos ha dado problemas\n",
    "query = db.log.update_one({\"_id\":\"Bertoldo\"},{\"$set\":{\"IP\":112.56.2.67})\n",
    "print(query.modified_count)\n",
    "print(query.acknowledged)\n",
    "                                              "
   ]
  },
  {
   "cell_type": "markdown",
   "metadata": {},
   "source": [
    "9.- Añadir un nueva pareja clave valor de la forma {suspicius:true} a todos los  usuarios con alguna acción con duración sobre 10 segundos y valor success a false."
   ]
  },
  {
   "cell_type": "code",
   "execution_count": 46,
   "metadata": {},
   "outputs": [
    {
     "name": "stdout",
     "output_type": "stream",
     "text": [
      "2\n",
      "True\n"
     ]
    }
   ],
   "source": [
    "# Solución\n",
    "#query = \n",
    "#print(query.modified_count)\n",
    "#print(query.acknowledged)"
   ]
  },
  {
   "cell_type": "markdown",
   "metadata": {},
   "source": [
    "10.- **Difícil**. La colección pru tiene documentos con el aspecto\n",
    "\n",
    "```\n",
    "db.pru.insert({a:[1,2,3,4,5],_id:0})\n",
    "db.pru.insert({a:[1,2,9],_id:1})\n",
    "```\n",
    "Queremos escribir una consulta para encontrar documentos sean subconjuntos del conjunto\n",
    "[1,4,5,2,3,8] (es decir que todos los elementos de su array 'a' estén en [1,4,5,2,3,8])\n",
    "\n",
    "En el ejemplo anterior: { \"_id\" : 0, \"a\" : [ 1, 2, 3, 4, 5 ] } \n",
    "\n"
   ]
  },
  {
   "cell_type": "code",
   "execution_count": 47,
   "metadata": {},
   "outputs": [
    {
     "name": "stdout",
     "output_type": "stream",
     "text": [
      "{'_id': 0, 'a': [1, 2, 3, 4, 5]}\n"
     ]
    }
   ],
   "source": [
    "\n",
    "db.pru.drop()\n",
    "db.pru.insert_one({'a':[1,2,3,4,5],'_id':0})\n",
    "db.pru.insert_one({'a':[1,2,9],'_id':1})\n",
    "# Solución\n",
    "#query = \n",
    "#for doc in query:\n",
    "#    print(doc)"
   ]
  },
  {
   "cell_type": "code",
   "execution_count": null,
   "metadata": {
    "collapsed": true
   },
   "outputs": [],
   "source": []
  }
 ],
 "metadata": {
  "kernelspec": {
   "display_name": "Python 3",
   "language": "python",
   "name": "python3"
  },
  "language_info": {
   "codemirror_mode": {
    "name": "ipython",
    "version": 3
   },
   "file_extension": ".py",
   "mimetype": "text/x-python",
   "name": "python",
   "nbconvert_exporter": "python",
   "pygments_lexer": "ipython3",
   "version": "3.7.3"
  }
 },
 "nbformat": 4,
 "nbformat_minor": 2
}
