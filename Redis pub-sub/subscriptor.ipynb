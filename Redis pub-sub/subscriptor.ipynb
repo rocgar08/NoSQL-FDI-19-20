{
 "cells": [
  {
   "cell_type": "markdown",
   "metadata": {},
   "source": [
    "![title](https://ucm.es/themes/ucm16/media/img/logo.png)\n",
    "\n",
    "# Bases de datos NoSQL\n",
    "\n",
    "### Práctica Redis. Servicios de publicación/subscripción \n",
    "\n",
    "#### Parte 2. Subscripción\n",
    "\n",
    "Lo primero, el nombre:"
   ]
  },
  {
   "cell_type": "markdown",
   "metadata": {},
   "source": [
    "Nombre"
   ]
  },
  {
   "cell_type": "markdown",
   "metadata": {},
   "source": [
    "Ahora conectamos a Redis. Es importante que cambieis los datos por los de vuestra cuenta, para no saturar el servidor. Además, los datos deben ser los mismos del publisher, si no no funcionará"
   ]
  },
  {
   "cell_type": "code",
   "execution_count": null,
   "metadata": {},
   "outputs": [],
   "source": [
    "# Ojo, cambiar estos datos por los de vuestro acceso a red en redislabs\n",
    "redisconexion = \"redis-13665.c55.eu-central-1-1.ec2.cloud.redislabs.com\"\n",
    "redispuerto = 13665\n",
    "passwd = \"csVe77ZtQL7sKQocZZHUlnjmSf0WpGxE\"\n",
    "\n",
    "import redis\n",
    "r = redis.Redis(host=redisconexion, password=passwd, port=redispuerto, charset=\"utf-8\", decode_responses=True, db=0)\n",
    "r.ping() # debe mostrar True"
   ]
  },
  {
   "cell_type": "markdown",
   "metadata": {},
   "source": [
    "#### Pregunta 2: 1 punto\n",
    "\n",
    "Declarar 3 subcriptores, s1, s2 y s3:\n",
    "    \n",
    "* s1 estará suscrito solo a 'news-money'\n",
    "\n",
    "* s2 estará suscrito solo a 'news-selected'\n",
    "\n",
    "* s3 estará suscrito solo a 'news-selected' y a 'news-other'"
   ]
  },
  {
   "cell_type": "code",
   "execution_count": null,
   "metadata": {},
   "outputs": [],
   "source": [
    "# solución\n"
   ]
  },
  {
   "cell_type": "markdown",
   "metadata": {},
   "source": [
    "#### Pregunta 3: 2 puntos\n",
    "\n",
    "Tras ejecutar el código anterior, ejecutar el publisher, que tardará unos segundos (puede que un minuto). Ahora ya tenemos tanto subcriptores (s1,s2,s3) como mensajes publicados. Para probarlo, escribir una función muestra que imprime la clave 'data' y 'chanel' de los n primeros mensajes  del subscriptor de tipo (type) `message` o `pmessage`.\n",
    "\n",
    "Nota: suponer que hay n mensajes, no hace falta comprobarlo"
   ]
  },
  {
   "cell_type": "code",
   "execution_count": null,
   "metadata": {},
   "outputs": [],
   "source": [
    "# solución\n",
    "\n",
    "# s es un subcriptor, n el número de mensajes a mostrar\n",
    "def muestra(s,n):\n",
    "   "
   ]
  },
  {
   "cell_type": "markdown",
   "metadata": {},
   "source": [
    "Para probar el código anterior"
   ]
  },
  {
   "cell_type": "code",
   "execution_count": null,
   "metadata": {},
   "outputs": [],
   "source": [
    "print(\"s1\")\n",
    "muestra(s1,3)\n",
    "print(\"s2\")\n",
    "muestra(s2,3)\n",
    "print(\"s3\")\n",
    "muestra(s3,3)"
   ]
  },
  {
   "cell_type": "markdown",
   "metadata": {},
   "source": [
    "La salida dependerá de las noticias, pero debe seguir el formato:\n",
    "\n",
    "    s1\n",
    "    Mensaje  1  Canal  news-money \n",
    "    Titular: Maharashtra govt to distribute ₹2,900 cr for drought relief \n",
    "\n",
    "    Mensaje  2  Canal  news-money \n",
    "    Titular: Fresh milk startup Country Delight raises $7-10 mn: Reports \n",
    "\n",
    "    Mensaje  3  Canal  news-money \n",
    "    Titular: Deals worth ₹3 lakh cr signed at Global Investors Meet: TN \n",
    "\n",
    "    s2\n",
    "    Mensaje  1  Canal  news-selected \n",
    "    Titular: Came back from India trip, amazed at the changes: Mark Mobius \n",
    "    ...."
   ]
  },
  {
   "cell_type": "markdown",
   "metadata": {},
   "source": [
    "#### Pregunta 4: 1 punto\n",
    "\n",
    "* Crear un nuevo subscriptor s4\n",
    "* Utilizar la subscripción por patrones para subscribirlo a todos los canales que empiezan por `news-`\n"
   ]
  },
  {
   "cell_type": "code",
   "execution_count": null,
   "metadata": {},
   "outputs": [],
   "source": [
    "\n"
   ]
  },
  {
   "cell_type": "markdown",
   "metadata": {},
   "source": [
    "Para probar:"
   ]
  },
  {
   "cell_type": "code",
   "execution_count": null,
   "metadata": {},
   "outputs": [],
   "source": [
    "# antes de ejecutar este código ejecutar de nuevo el publisher (la última caja de código)\n",
    "muestra(s4,4)"
   ]
  },
  {
   "cell_type": "markdown",
   "metadata": {},
   "source": [
    "#### Pregunta 5: 2 puntos\n",
    "Lo normal es que no queramos mostrar la información sin más por pantalla, sino que queramos grabar lo publicado en una base de datos. En nuestro caso se pide:\n",
    "\n",
    "* Crear un servidor de mongo (o conectar a Atlas, como se desee)\n",
    "* Escribir una función graba(s,db) que grabe cada mensaje en una colección con el mismo nombre que el canal en el que se ha publicado el mensaje. Cada documento solo tendrá una clave `titular` (aparte del _id, que dejaremos que se genera automáticamente)\n",
    "\n",
    "graba(s,db) grabará en mongo titulares hasta que la función `get_message` devuelva None\n",
    "\n",
    "**AViso**: el siguiente código borra la base de datos news, asegurarse de no tener nada importante"
   ]
  },
  {
   "cell_type": "code",
   "execution_count": null,
   "metadata": {},
   "outputs": [],
   "source": [
    "# iniciamos mongo\n",
    "from pymongo import MongoClient\n",
    "client = MongoClient('mongodb://127.0.0.1:27017/')\n",
    "\n",
    "## OJO: borramos la base de datos news\n",
    "client.drop_database('news')\n",
    "db = client.news\n",
    "\n",
    "# graba todos los mensajes del publisher s en la base de datos db, con el nombre\n",
    "# de colecciones que indice 'channel'\n",
    "def graba(s,db):\n",
    "  \n",
    "    \n",
    "    \n"
   ]
  },
  {
   "cell_type": "markdown",
   "metadata": {},
   "source": [
    "Para probarlos nos declaramos un subcriptor"
   ]
  },
  {
   "cell_type": "code",
   "execution_count": null,
   "metadata": {},
   "outputs": [],
   "source": [
    "\n",
    "s5 = r.pubsub() \n",
    "s5.subscribe(\"news-selected\")\n",
    "s5.subscribe(\"news-money\")\n"
   ]
  },
  {
   "cell_type": "markdown",
   "metadata": {},
   "source": [
    "Ahora ejecutamos el publisher, y a continuación la llamada a nuestra función, que grabará en mongo en dos colecciones, news-selected, y news-money"
   ]
  },
  {
   "cell_type": "code",
   "execution_count": null,
   "metadata": {},
   "outputs": [],
   "source": [
    "graba(s5,db)"
   ]
  },
  {
   "cell_type": "markdown",
   "metadata": {},
   "source": [
    "Vamos a ver si se ha insertado bien mirando los primeros documentos de cada coleccion"
   ]
  },
  {
   "cell_type": "code",
   "execution_count": null,
   "metadata": {},
   "outputs": [],
   "source": [
    "def muestra_primeros(db,n):\n",
    "    for c in db.list_collection_names():\n",
    "        print(\"Colección \",c)\n",
    "        for doc in db[c].find({},{\"_id\":0}).limit(n):\n",
    "            print(doc)\n",
    "       "
   ]
  },
  {
   "cell_type": "code",
   "execution_count": null,
   "metadata": {},
   "outputs": [],
   "source": [
    "muestra_primeros(db,10)"
   ]
  },
  {
   "cell_type": "markdown",
   "metadata": {},
   "source": [
    "La salida debe tener el aspecto:    \n",
    "    \n",
    "    Colección  news-selected\n",
    "    {'titular': 'US govt agency condemns Pak as food aid being denied to Hindus amid coronavirus'}\n",
    "    {'titular': 'Coronaviruses found in two bat species in India: ICMR'}\n",
    "    ...."
   ]
  },
  {
   "cell_type": "markdown",
   "metadata": {},
   "source": []
  }
 ],
 "metadata": {
  "kernelspec": {
   "display_name": "Python 3",
   "language": "python",
   "name": "python3"
  },
  "language_info": {
   "codemirror_mode": {
    "name": "ipython",
    "version": 3
   },
   "file_extension": ".py",
   "mimetype": "text/x-python",
   "name": "python",
   "nbconvert_exporter": "python",
   "pygments_lexer": "ipython3",
   "version": "3.7.4"
  }
 },
 "nbformat": 4,
 "nbformat_minor": 2
}
